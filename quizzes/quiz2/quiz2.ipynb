{
 "cells": [
  {
   "attachments": {},
   "cell_type": "markdown",
   "metadata": {},
   "source": [
    "# <span style=\"color:darkblue\"> QTM 151 - Quiz 2 </span>"
   ]
  },
  {
   "attachments": {},
   "cell_type": "markdown",
   "metadata": {},
   "source": [
    "## Try to submit as an HTML file"
   ]
  },
  {
   "attachments": {},
   "cell_type": "markdown",
   "metadata": {},
   "source": [
    "<font size=\"5\"> \n",
    "\n",
    "Print your Emory code below"
   ]
  },
  {
   "cell_type": "code",
   "execution_count": 4,
   "metadata": {},
   "outputs": [],
   "source": [
    "# Write your answer here\n",
    "print('2428993')"
   ]
  },
  {
   "attachments": {},
   "cell_type": "markdown",
   "metadata": {},
   "source": [
    "<font size = \"5\" >\n",
    "This quiz is open book \n",
    "\n",
    "- You can use the lecture notes and Google\n",
    "- You will get partial credit for attempting the questions\n",
    "- To get full credit, the code should run as intended\n",
    "- You should <span style=\"color:red\"> NOT </span> communicate with other students\n",
    "\n",
    "Print the following message: <br>\n",
    "\n",
    "\"I will abide by Emory's code of conduct\"\n",
    "\n",
    "**By printing the message, you acknowledge that you will abide by Emory's code of conduct.**"
   ]
  },
  {
   "cell_type": "code",
   "execution_count": 1,
   "metadata": {},
   "outputs": [
    {
     "name": "stdout",
     "output_type": "stream",
     "text": [
      "I will abide by Emory's code of conduct\n"
     ]
    }
   ],
   "source": [
    "# Write your answer here:\n",
    "\n",
    "print(\"I will abide by Emory's code of conduct\")"
   ]
  },
  {
   "attachments": {},
   "cell_type": "markdown",
   "metadata": {},
   "source": [
    "<font size = \"5\">\n",
    "\n",
    "Import the libraries \"numpy\", \"matplotlib.pyplot\", and \"pandas\""
   ]
  },
  {
   "cell_type": "code",
   "execution_count": 2,
   "metadata": {},
   "outputs": [],
   "source": [
    "# Write your answer here\n",
    "import pandas as pd\n",
    "import matplotlib.pyplot as plt\n",
    "import numpy as np"
   ]
  },
  {
   "attachments": {},
   "cell_type": "markdown",
   "metadata": {},
   "source": [
    "<font size = \"5\">\n",
    "\n",
    "Import the dataset \"data_quiz/fifa23_players_basic.csv\"\n",
    "\n",
    "- It's a dataset on professional soccer players\n",
    "- Rows correspond to players (18,539)\n",
    "- Columns contain attributes of players (32)\n",
    "- Try to view the dataset before starting"
   ]
  },
  {
   "cell_type": "code",
   "execution_count": 31,
   "metadata": {},
   "outputs": [
    {
     "name": "stdout",
     "output_type": "stream",
     "text": [
      "             Known As           Full Name  Overall  Potential  Value(in Euro)  \\\n",
      "0            L. Messi        Lionel Messi       91         91        54000000   \n",
      "1          K. Benzema       Karim Benzema       91         91        64000000   \n",
      "2      R. Lewandowski  Robert Lewandowski       91         91        84000000   \n",
      "3        K. De Bruyne     Kevin De Bruyne       91         91       107500000   \n",
      "4           K. Mbappé       Kylian Mbappé       91         95       190500000   \n",
      "...               ...                 ...      ...        ...             ...   \n",
      "18534      D. Collins      Darren Collins       47         56          110000   \n",
      "18535    Yang Dejiang        Dejiang Yang       47         57           90000   \n",
      "18536       L. Mullan         Liam Mullan       47         67          130000   \n",
      "18537    D. McCallion    Daithí McCallion       47         61          100000   \n",
      "18538        N. Rabha         Nabin Rabha       47         50           60000   \n",
      "\n",
      "      Positions Played Best Position          Nationality  \\\n",
      "0                   RW           CAM            Argentina   \n",
      "1                CF,ST            CF               France   \n",
      "2                   ST            ST               Poland   \n",
      "3               CM,CAM            CM              Belgium   \n",
      "4                ST,LW            ST               France   \n",
      "...                ...           ...                  ...   \n",
      "18534            ST,RM           CAM  Republic of Ireland   \n",
      "18535              CDM           CDM             China PR   \n",
      "18536               CM            RM     Northern Ireland   \n",
      "18537               CB            CB  Republic of Ireland   \n",
      "18538               LB            LB                India   \n",
      "\n",
      "                                             Image Link  Age  ...  \\\n",
      "0      https://cdn.sofifa.net/players/158/023/23_60.png   35  ...   \n",
      "1      https://cdn.sofifa.net/players/165/153/23_60.png   34  ...   \n",
      "2      https://cdn.sofifa.net/players/188/545/23_60.png   33  ...   \n",
      "3      https://cdn.sofifa.net/players/192/985/23_60.png   31  ...   \n",
      "4      https://cdn.sofifa.net/players/231/747/23_60.png   23  ...   \n",
      "...                                                 ...  ...  ...   \n",
      "18534  https://cdn.sofifa.net/players/243/725/23_60.png   21  ...   \n",
      "18535  https://cdn.sofifa.net/players/261/933/23_60.png   17  ...   \n",
      "18536  https://cdn.sofifa.net/players/267/823/23_60.png   18  ...   \n",
      "18537  https://cdn.sofifa.net/players/267/824/23_60.png   17  ...   \n",
      "18538  https://cdn.sofifa.net/players/261/424/23_60.png   25  ...   \n",
      "\n",
      "       Preferred Foot  Weak Foot Rating  Skill Moves  \\\n",
      "0                Left                 4            4   \n",
      "1               Right                 4            4   \n",
      "2               Right                 4            4   \n",
      "3               Right                 5            4   \n",
      "4               Right                 4            5   \n",
      "...               ...               ...          ...   \n",
      "18534           Right                 3            2   \n",
      "18535           Right                 3            2   \n",
      "18536           Right                 3            2   \n",
      "18537           Right                 3            2   \n",
      "18538            Left                 3            2   \n",
      "\n",
      "       International Reputation National Team Name  \\\n",
      "0                             5          Argentina   \n",
      "1                             4             France   \n",
      "2                             5             Poland   \n",
      "3                             4            Belgium   \n",
      "4                             4             France   \n",
      "...                         ...                ...   \n",
      "18534                         1                  -   \n",
      "18535                         1                  -   \n",
      "18536                         1                  -   \n",
      "18537                         1                  -   \n",
      "18538                         1                  -   \n",
      "\n",
      "                  National Team Image Link  National Team Position  \\\n",
      "0      https://cdn.sofifa.net/flags/ar.png                      RW   \n",
      "1      https://cdn.sofifa.net/flags/fr.png                      ST   \n",
      "2      https://cdn.sofifa.net/flags/pl.png                      ST   \n",
      "3      https://cdn.sofifa.net/flags/be.png                      RF   \n",
      "4      https://cdn.sofifa.net/flags/fr.png                      ST   \n",
      "...                                    ...                     ...   \n",
      "18534                                    -                       -   \n",
      "18535                                    -                       -   \n",
      "18536                                    -                       -   \n",
      "18537                                    -                       -   \n",
      "18538                                    -                       -   \n",
      "\n",
      "      National Team Jersey Number Attacking Work Rate Defensive Work Rate  \n",
      "0                              10                 Low                 Low  \n",
      "1                              19              Medium              Medium  \n",
      "2                               9                High              Medium  \n",
      "3                               7                High                High  \n",
      "4                              10                High                 Low  \n",
      "...                           ...                 ...                 ...  \n",
      "18534                           -              Medium              Medium  \n",
      "18535                           -              Medium              Medium  \n",
      "18536                           -                High              Medium  \n",
      "18537                           -              Medium              Medium  \n",
      "18538                           -              Medium              Medium  \n",
      "\n",
      "[18539 rows x 32 columns]\n"
     ]
    }
   ],
   "source": [
    "# Write your own code\n",
    "fifa = pd.read_csv(\"data_quiz/fifa23_players_basic.csv\")\n",
    "print(fifa)"
   ]
  },
  {
   "attachments": {},
   "cell_type": "markdown",
   "metadata": {},
   "source": [
    "<font size = \"5\">\n",
    "\n",
    "(a) Create a function and apply it to a column <br>\n",
    "\n",
    "<font size = \"3\">\n",
    "\n",
    "Step 1:\n",
    "- Define a function with a parameter \"overall\"\n",
    "- If \"overall < 85\", status = \"Regular Player\"\n",
    "- If \"age_player >= 85\", status = \"Top Player\"\n",
    "- The function returns \"status\"\n",
    "\n",
    "Step 2:\n",
    "- Extract the column \"Overall\" in the dataset <br>\n",
    "(be carefeful to write the \"O\" capitalized)\n",
    "- Create a new variable called \"top_players\" <br>\n",
    "to assign each player to the correct status\n",
    "\n",
    "HINT: Use the \".apply()\" function"
   ]
  },
  {
   "cell_type": "code",
   "execution_count": 33,
   "metadata": {},
   "outputs": [],
   "source": [
    "# Write your own code\n",
    "def fn_fifa (overall):\n",
    "    if overall < 85:\n",
    "        status = \"Regular Player\"\n",
    "    else:\n",
    "        status = \"Top Player\"\n",
    "    return status\n",
    "\n",
    "overall_column = fifa['Overall']\n",
    "\n",
    "fifa['top_players'] = overall_column.apply(fn_fifa)\n"
   ]
  },
  {
   "attachments": {},
   "cell_type": "markdown",
   "metadata": {},
   "source": [
    "<font size = \"5\">\n",
    "\n",
    "(b) Use queries + global variables\n",
    "\n",
    "<font size = \"3\">\n",
    "\n",
    "- Compute the mean of the column \"Wage(in Euro)\" <br>\n",
    "and store it as a variable\n",
    "- Subset the players whose value is above the mean value <br>\n",
    "  using \".query()\"\n",
    "\n",
    "\n",
    "HINT: Remember that there is a special syntax for <br>\n",
    "when the column names have spaces (see Lecture 9) <br>\n",
    "Reference the column as ``` `Wage(in Euro)`    ``` inside .query()"
   ]
  },
  {
   "cell_type": "code",
   "execution_count": 36,
   "metadata": {},
   "outputs": [
    {
     "name": "stdout",
     "output_type": "stream",
     "text": [
      "8824.537461567506\n",
      "                 Known As                 Full Name  Overall  Potential  \\\n",
      "0                L. Messi              Lionel Messi       91         91   \n",
      "1              K. Benzema             Karim Benzema       91         91   \n",
      "2          R. Lewandowski        Robert Lewandowski       91         91   \n",
      "3            K. De Bruyne           Kevin De Bruyne       91         91   \n",
      "4               K. Mbappé             Kylian Mbappé       91         95   \n",
      "...                   ...                       ...      ...        ...   \n",
      "14279            A. Lewis                Adam Lewis       61         65   \n",
      "15117           B. Knight                Ben Knight       60         74   \n",
      "15441  T. Suengchitthawon  Thanawat Suengchitthawon       60         70   \n",
      "15957          P. Glatzel              Paul Glatzel       59         65   \n",
      "16157      C. Chukwuemeka         Caleb Chukwuemeka       58         71   \n",
      "\n",
      "       Value(in Euro) Positions Played Best Position Nationality  \\\n",
      "0            54000000               RW           CAM   Argentina   \n",
      "1            64000000            CF,ST            CF      France   \n",
      "2            84000000               ST            ST      Poland   \n",
      "3           107500000           CM,CAM            CM     Belgium   \n",
      "4           190500000            ST,LW            ST      France   \n",
      "...               ...              ...           ...         ...   \n",
      "14279          450000           LWB,LB           LWB     England   \n",
      "15117          600000               RW           CAM     England   \n",
      "15441          550000              CAM            RM    Thailand   \n",
      "15957          375000               ST            ST     Germany   \n",
      "16157          500000         RW,RM,LW            ST     England   \n",
      "\n",
      "                                             Image Link  Age  ...  \\\n",
      "0      https://cdn.sofifa.net/players/158/023/23_60.png   35  ...   \n",
      "1      https://cdn.sofifa.net/players/165/153/23_60.png   34  ...   \n",
      "2      https://cdn.sofifa.net/players/188/545/23_60.png   33  ...   \n",
      "3      https://cdn.sofifa.net/players/192/985/23_60.png   31  ...   \n",
      "4      https://cdn.sofifa.net/players/231/747/23_60.png   23  ...   \n",
      "...                                                 ...  ...  ...   \n",
      "14279  https://cdn.sofifa.net/players/243/056/23_60.png   22  ...   \n",
      "15117  https://cdn.sofifa.net/players/263/955/23_60.png   20  ...   \n",
      "15441  https://cdn.sofifa.net/players/259/324/23_60.png   22  ...   \n",
      "15957  https://cdn.sofifa.net/players/247/507/23_60.png   21  ...   \n",
      "16157  https://cdn.sofifa.net/players/258/748/23_60.png   20  ...   \n",
      "\n",
      "       Weak Foot Rating  Skill Moves  International Reputation  \\\n",
      "0                     4            4                         5   \n",
      "1                     4            4                         4   \n",
      "2                     4            4                         5   \n",
      "3                     5            4                         4   \n",
      "4                     4            5                         4   \n",
      "...                 ...          ...                       ...   \n",
      "14279                 2            2                         1   \n",
      "15117                 3            3                         1   \n",
      "15441                 3            2                         1   \n",
      "15957                 3            3                         1   \n",
      "16157                 4            3                         1   \n",
      "\n",
      "       National Team Name                 National Team Image Link  \\\n",
      "0               Argentina      https://cdn.sofifa.net/flags/ar.png   \n",
      "1                  France      https://cdn.sofifa.net/flags/fr.png   \n",
      "2                  Poland      https://cdn.sofifa.net/flags/pl.png   \n",
      "3                 Belgium      https://cdn.sofifa.net/flags/be.png   \n",
      "4                  France      https://cdn.sofifa.net/flags/fr.png   \n",
      "...                   ...                                      ...   \n",
      "14279                   -  https://cdn.sofifa.net/flags/gb-eng.png   \n",
      "15117                   -  https://cdn.sofifa.net/flags/gb-eng.png   \n",
      "15441                   -                                        -   \n",
      "15957                   -      https://cdn.sofifa.net/flags/de.png   \n",
      "16157                   -  https://cdn.sofifa.net/flags/gb-eng.png   \n",
      "\n",
      "       National Team Position  National Team Jersey Number  \\\n",
      "0                          RW                           10   \n",
      "1                          ST                           19   \n",
      "2                          ST                            9   \n",
      "3                          RF                            7   \n",
      "4                          ST                           10   \n",
      "...                       ...                          ...   \n",
      "14279                       -                            -   \n",
      "15117                       -                            -   \n",
      "15441                       -                            -   \n",
      "15957                       -                            -   \n",
      "16157                       -                            -   \n",
      "\n",
      "      Attacking Work Rate Defensive Work Rate     top_players  \n",
      "0                     Low                 Low      Top Player  \n",
      "1                  Medium              Medium      Top Player  \n",
      "2                    High              Medium      Top Player  \n",
      "3                    High                High      Top Player  \n",
      "4                    High                 Low      Top Player  \n",
      "...                   ...                 ...             ...  \n",
      "14279              Medium              Medium  Regular Player  \n",
      "15117              Medium              Medium  Regular Player  \n",
      "15441              Medium              Medium  Regular Player  \n",
      "15957              Medium                 Low  Regular Player  \n",
      "16157              Medium                 Low  Regular Player  \n",
      "\n",
      "[4300 rows x 33 columns]\n"
     ]
    }
   ],
   "source": [
    "# Write your own code\n",
    "mean_wage = fifa['Wage(in Euro)'].mean()\n",
    "above_mean_wage_players = fifa.query('`Wage(in Euro)` > @mean_wage')\n",
    "\n",
    "print(mean_wage)\n",
    "print(above_mean_wage_players)"
   ]
  },
  {
   "attachments": {},
   "cell_type": "markdown",
   "metadata": {},
   "source": [
    "<font size = \"5\">\n",
    "\n",
    "(c) Use sorting + \".iloc[]\"\n",
    "\n",
    "<font size = \"3\">\n",
    "\n",
    "- Use \".sort_values()\" to order the \"Age\" column <br>\n",
    "from youngest to oldest\n",
    "- Get a subset with the 5 youngest players\n",
    "- Print their age"
   ]
  },
  {
   "cell_type": "code",
   "execution_count": 38,
   "metadata": {},
   "outputs": [
    {
     "name": "stdout",
     "output_type": "stream",
     "text": [
      "17956    16\n",
      "18014    16\n",
      "16084    16\n",
      "11481    16\n",
      "17591    16\n",
      "Name: Age, dtype: int64\n"
     ]
    }
   ],
   "source": [
    "# Write your own code\n",
    "sorted_fifa = fifa.sort_values(by='Age', ascending=True)\n",
    "youngest_five = sorted_fifa.iloc[:5]\n",
    "print(youngest_five['Age'])"
   ]
  },
  {
   "attachments": {},
   "cell_type": "markdown",
   "metadata": {},
   "source": [
    "<font size = \"5\">\n",
    "\n",
    "(d) Create a function with four inputs $f(y,x,b0,b1)$\n",
    "\n",
    "<font size = \"3\">\n",
    "\n",
    "$\\qquad e2 = (y - b_0 - b_1 * x)^2$\n",
    "\n",
    "- The function should return the mean of e2\n",
    "- This is the mean-square error (mse)\n",
    "- Call the function \"fn_mse\"\n",
    "- Let $y$ be the column \"Potential\"\n",
    "- Let $x$ be the column \"Age\" \n",
    "- Does <br>\n",
    "$\\qquad (b_0 = 80, b_1 = 0.4)$ or <br>\n",
    "$\\qquad (b_0 = 80, b_1 =-0.3)$ or <br>\n",
    "$\\qquad (b_0 = 80, b_1 = -0.5)$ <br>\n",
    "produce the lowest value of mse?\n",
    "- Print your results"
   ]
  },
  {
   "cell_type": "code",
   "execution_count": 46,
   "metadata": {},
   "outputs": [
    {
     "name": "stdout",
     "output_type": "stream",
     "text": [
      "The value for MSE_a is:  412.1016840174767\n",
      "The value for MSE_b is:  37.72189870003776\n",
      "The value for MSE_c is:  49.43713253142025\n"
     ]
    }
   ],
   "source": [
    "# Write your own code\n",
    "\n",
    "def fn_mse(y, x, b0, b1):\n",
    "    e2 = (y - b0 - b1 * x) ** 2\n",
    "    return e2.mean()\n",
    "\n",
    "y = fifa['Potential']\n",
    "x = fifa['Age']\n",
    "\n",
    "mse_a = fn_mse(y, x, 80, 0.4)\n",
    "mse_b = fn_mse(y, x, 80, -0.3)\n",
    "mse_c = fn_mse(y, x, 80, -0.5)\n",
    "\n",
    "print(\"The value for MSE_a is: \", mse_a)\n",
    "print(\"The value for MSE_b is: \", mse_b)\n",
    "print(\"The value for MSE_c is: \", mse_c)\n",
    "\n",
    "#MSE B (where b0 = 80 and b1 = -.3) has the lowest MSE\n"
   ]
  },
  {
   "attachments": {},
   "cell_type": "markdown",
   "metadata": {},
   "source": [
    "<font size = \"5\">\n",
    "\n",
    "(e) Split a dataset into subsets\n",
    "\n",
    "<font size = \"3\">\n",
    "\n",
    "- Create ``` list_status = [0,1]```\n",
    "- Create ``` list_prob = [0.5, 0.5]```\n",
    "- Create a new variable $n$ with the number of rows of the dataset\n",
    "- Define a random seed that equals 42\n",
    "\n",
    "- Use \n",
    "```python\n",
    "    np.random.choice(list_status,\n",
    "                     size = n,\n",
    "                     p = list_prob)\n",
    "```\n",
    "$\\qquad$ to create a new column called \"status\" <br>\n",
    "$\\qquad$ which randomly assigns each row to \"0\" or \"1\" <br>\n",
    "$\\qquad$ with equal probability\n",
    "- Use .query() to subset all observations with status == 0.<br>\n",
    "store it in a new dataset called \"data0\"\n",
    "- Use .query() to subset all observations with status == 1.<br>\n",
    "store it in a new dataset called \"data1\"\n",
    "\n"
   ]
  },
  {
   "cell_type": "code",
   "execution_count": 47,
   "metadata": {},
   "outputs": [],
   "source": [
    "# Write your own code\n",
    "list_status = [0,1]\n",
    "list_prob = [.5,.5]\n",
    "\n",
    "n = len(fifa)\n",
    "np.random.seed(42)\n",
    "\n",
    "fifa['status'] = np.random.choice(list_status, \n",
    "                 size = n, \n",
    "                 p = list_prob)\n",
    "\n",
    "data0 = fifa.query('status == 0')\n",
    "data1 = fifa.query('status == 1')"
   ]
  },
  {
   "attachments": {},
   "cell_type": "markdown",
   "metadata": {},
   "source": [
    "<font size = \"5\">\n",
    "\n",
    "(f) Create two overlapping histogram plots\n",
    "\n",
    "<font size = \"3\">\n",
    "\n",
    "- This question requires the two datasets you created in (e)\n",
    "- Display the distribution of \"Age\" for \"data0\" and \"data1\"\n",
    "- Use the \"alpha\" option to make the graphs semitransparent\n",
    "- You will need to add a legend, label the axes, and the title\n",
    "\n",
    "Note: The goal of this question is to illustrate that random <br>\n",
    "assignment produces very similar distributions between two groups\n",
    "\n",
    "- Provide a short interpretation of the graph using the information from the Note"
   ]
  },
  {
   "cell_type": "code",
   "execution_count": 44,
   "metadata": {},
   "outputs": [
    {
     "data": {
      "image/png": "[encoded data removed]",
      "text/plain": [
       "<Figure size 640x480 with 1 Axes>"
      ]
     },
     "metadata": {},
     "output_type": "display_data"
    }
   ],
   "source": [
    "# Write your own code\n",
    "\n",
    "data0['Age'].hist(alpha=0.5, label='data0', color='blue')\n",
    "data1['Age'].hist(alpha=0.5, label='data1', color='red')\n",
    "\n",
    "plt.legend()\n",
    "plt.xlabel('Age')\n",
    "plt.ylabel('Frequency')\n",
    "plt.title('Histogram for Age for both data0 and data1')\n",
    "plt.show()\n",
    "\n",
    "#Interpretation: the two overlayed histograms are very similar. The spread of data0 and data1 are almost identical. \n",
    "#The peak is slightly higher for data0 than for data1 however the spread is almost the exact same. This helps show that when the \n",
    "#dataset is big enough, and is randomly split into two groups, the distributions should be almost very similar. This is proven by central limit\n",
    "#theorom and random distribution. "
   ]
  }
 ],
 "metadata": {
  "kernelspec": {
   "display_name": "base",
   "language": "python",
   "name": "python3"
  },
  "language_info": {
   "codemirror_mode": {
    "name": "ipython",
    "version": 3
   },
   "file_extension": ".py",
   "mimetype": "text/x-python",
   "name": "python",
   "nbconvert_exporter": "python",
   "pygments_lexer": "ipython3",
   "version": "3.11.4"
  },
  "orig_nbformat": 4,
  "vscode": {
   "interpreter": {
    "hash": "45fc1f684f6f416f40889115beff3ddf69879b64cf4bfee48cb72a61e9d15d1a"
   }
  }
 },
 "nbformat": 4,
 "nbformat_minor": 2
}
